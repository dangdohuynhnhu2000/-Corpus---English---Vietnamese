{
 "cells": [
  {
   "cell_type": "code",
   "execution_count": 1,
   "metadata": {},
   "outputs": [
    {
     "name": "stdout",
     "output_type": "stream",
     "text": [
      "18\n",
      "18\n"
     ]
    }
   ],
   "source": [
    "import requests\n",
    "import time\n",
    "from bs4 import BeautifulSoup\n",
    "\n",
    "e_home_url = 'https://unicef.org/vietnam'\n",
    "e_html_text = requests.get(e_home_url).text\n",
    "e_tree = BeautifulSoup(e_html_text, 'html.parser')\n",
    "e_links = e_tree.find_all('div', {'class': 'card white-bg grey-darker'})\n",
    "\n",
    "v_home_url = 'https://unicef.org/vietnam/vi'\n",
    "v_html_text = requests.get(v_home_url).text\n",
    "v_tree = BeautifulSoup(v_html_text, 'html.parser')\n",
    "v_links = v_tree.find_all('div', {'class': 'card white-bg grey-darker'})\n",
    "\n",
    "print(len(e_links))\n",
    "print(len(v_links))\n",
    "\n"
   ]
  },
  {
   "cell_type": "code",
   "execution_count": 18,
   "metadata": {},
   "outputs": [
    {
     "name": "stdout",
     "output_type": "stream",
     "text": [
      "https://unicef.org/vietnam/vi/th%C3%B4ng-c%C3%A1o-b%C3%A1o-ch%C3%AD/gi%E1%BB%9D-%C4%91%C3%A2y-khi-%C4%91%E1%BA%A1i-d%E1%BB%8Bch-covid-19-b%E1%BA%AFt-%C4%91%E1%BA%A7u-b%C6%B0%E1%BB%9Bc-sang-m%E1%BB%99t-giai-%C4%91o%E1%BA%A1n-m%E1%BB%9Bi-unicef-mu%E1%BB%91n\n"
     ]
    }
   ],
   "source": [
    "v_url_tail = v_links[0].find('a', {'data-bound': 'click'})['href']\n",
    "v_home_url = 'https://unicef.org'\n",
    "v_url = v_home_url + v_url_tail\n",
    "print(v_url)"
   ]
  },
  {
   "cell_type": "code",
   "execution_count": 4,
   "metadata": {},
   "outputs": [],
   "source": [
    "story_file = open('Story.txt', 'w', encoding = 'utf-8')\n",
    "for i in range(len(e_links)):\n",
    "    index = i + 1\n",
    "    index = str(index)\n",
    "    \n",
    "    \n",
    "    e_url_tail = e_links[i].find('a', {'data-bound': 'click'})['href']\n",
    "    e_home_url = 'https://unicef.org'\n",
    "    e_url = e_home_url + e_url_tail\n",
    "    e_story_text = requests.get(e_url).text\n",
    "    e_story_tree = BeautifulSoup(e_story_text, 'html.parser')\n",
    "    try:\n",
    "        e_text = e_story_tree.find('div', {'class': 'text_with_summary'}).text\n",
    "    except:\n",
    "        time.sleep(1)\n",
    "    else:\n",
    "        story_file.write('[')\n",
    "        story_file.write(index)\n",
    "        story_file.write('_e]\\n')\n",
    "        story_file.write(e_text)\n",
    "        story_file.write('\\n')\n",
    "        time.sleep(1)\n",
    "    try:\n",
    "        e_text = e_story_tree.find('div', {'class': 'field_component_text_content'}).text\n",
    "    except:\n",
    "        time.sleep(1)\n",
    "    else:\n",
    "        story_file.write('[')\n",
    "        story_file.write(index)\n",
    "        story_file.write('_e]\\n')\n",
    "        story_file.write(e_text)\n",
    "        story_file.write('\\n')\n",
    "        time.sleep(1)\n",
    "    \n",
    "    v_url_tail = v_links[i].find('a', {'data-bound': 'click'})['href']\n",
    "    v_home_url = 'https://unicef.org'\n",
    "    v_url = v_home_url + v_url_tail\n",
    "    v_story_text = requests.get(v_url).text\n",
    "    v_story_tree = BeautifulSoup(v_story_text, 'html.parser')\n",
    "    try:\n",
    "        v_text = v_story_tree.find('div', {'class': 'text_with_summary'}).text\n",
    "    except:\n",
    "        time.sleep(1)\n",
    "    else:\n",
    "        story_file.write('[')\n",
    "        story_file.write(index)\n",
    "        story_file.write('_v]\\n')\n",
    "        story_file.write(v_text)\n",
    "        story_file.write('\\n')\n",
    "        time.sleep(1)\n",
    "    try:\n",
    "        v_text = v_story_tree.find('div', {'class': 'field_component_text_content'}).text\n",
    "    except:\n",
    "        time.sleep(1)\n",
    "    else:\n",
    "        story_file.write('[')\n",
    "        story_file.write(index)\n",
    "        story_file.write('_v]\\n')\n",
    "        story_file.write(v_text)\n",
    "        story_file.write('\\n')\n",
    "        time.sleep(1)\n",
    "story_file.close()"
   ]
  }
 ],
 "metadata": {
  "kernelspec": {
   "display_name": "Python 3",
   "language": "python",
   "name": "python3"
  },
  "language_info": {
   "codemirror_mode": {
    "name": "ipython",
    "version": 3
   },
   "file_extension": ".py",
   "mimetype": "text/x-python",
   "name": "python",
   "nbconvert_exporter": "python",
   "pygments_lexer": "ipython3",
   "version": "3.8.3"
  }
 },
 "nbformat": 4,
 "nbformat_minor": 4
}
