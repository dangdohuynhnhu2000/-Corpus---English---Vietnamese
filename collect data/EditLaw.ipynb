{
 "cells": [
  {
   "cell_type": "code",
   "execution_count": 42,
   "metadata": {},
   "outputs": [],
   "source": [
    "import re"
   ]
  },
  {
   "cell_type": "code",
   "execution_count": 67,
   "metadata": {},
   "outputs": [],
   "source": [
    "e_file = open('Luat28-2004-QH11.txt', 'r', encoding = 'utf-8')\n",
    "e_text = e_file.readlines()\n",
    "e_file.close()\n",
    "\n",
    "breakline = '\\n'\n",
    "i = 0\n",
    "\n",
    "for e_sentence in e_text:\n",
    "    if e_sentence == breakline:\n",
    "        del e_text[i]\n",
    "    i = i + 1\n",
    "v_file = open('Luat28-2004-QH11.txt', 'w', encoding = 'utf-8')\n",
    "for e_sentence in e_text:\n",
    "    e_word = e_sentence.split()\n",
    "    e_word[0] = re.sub('[a-z0-9đê]{1,2}[.)]', '', e_word[0])\n",
    "    for j in range(len(e_word)):\n",
    "        if j == 0:\n",
    "            if e_word[j] != '':\n",
    "                v_file.write(e_word[j])\n",
    "                v_file.write(' ')\n",
    "        if j > 0:\n",
    "            v_file.write(e_word[j])\n",
    "            v_file.write(' ')\n",
    "    v_file.write('\\n')\n",
    "v_file.close()\n",
    "    \n",
    "        \n",
    "\n"
   ]
  }
 ],
 "metadata": {
  "kernelspec": {
   "display_name": "Python 3",
   "language": "python",
   "name": "python3"
  },
  "language_info": {
   "codemirror_mode": {
    "name": "ipython",
    "version": 3
   },
   "file_extension": ".py",
   "mimetype": "text/x-python",
   "name": "python",
   "nbconvert_exporter": "python",
   "pygments_lexer": "ipython3",
   "version": "3.8.3"
  }
 },
 "nbformat": 4,
 "nbformat_minor": 4
}
