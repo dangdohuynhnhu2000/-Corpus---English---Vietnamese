{
 "cells": [
  {
   "cell_type": "code",
   "execution_count": 14,
   "metadata": {},
   "outputs": [],
   "source": [
    "import requests\n",
    "import time\n",
    "import random\n",
    "from bs4 import BeautifulSoup\n",
    "\n",
    "dict_file = open('Dict.txt', 'r', encoding = 'utf-8')\n",
    "dicts = dict_file.readlines()\n",
    "dict_file.close()\n",
    "\n",
    "user_agent_list = ['Mozilla/5.0 (Windows NT 10.0; Win64; x64) AppleWebKit/537.36 (KHTML, like Gecko) Chrome/74.0.3729.169 Safari/537.36',\n",
    "                  'Mozilla/5.0 (Windows NT 10.0; WOW64) AppleWebKit/537.36 (KHTML, like Gecko) Chrome/72.0.3626.121 Safari/537.36',\n",
    "                  'Mozilla/5.0 (Windows NT 10.0; Win64; x64) AppleWebKit/537.36 (KHTML, like Gecko) Chrome/74.0.3729.157 Safari/537.36',\n",
    "                  'Mozilla/5.0 (Windows NT 10.0; Win64; x64) AppleWebKit/537.36 (KHTML, like Gecko) Chrome/60.0.3112.113 Safari/537.36',\n",
    "                  'Mozilla/5.0 (X11; Linux x86_64) AppleWebKit/537.36 (KHTML, like Gecko) Chrome/44.0.2403.157 Safari/537.36']\n",
    "\n",
    "web = 'https://glosbe.com/vi/en/'\n",
    "info_file = open('Example.txt', 'w', encoding = 'utf-8')\n",
    "i = 37158\n",
    "for dict_word in dicts:\n",
    "    i = i + 1\n",
    "    i = str(i)\n",
    "    \n",
    "    dict_word = dict_word.replace(' ', '%20')\n",
    "    dict_word = dict_word.replace('\\n', '')\n",
    "    url = web + dict_word\n",
    "    \n",
    "    html_text = requests.get(url).text\n",
    "    tree = BeautifulSoup(html_text, 'html.parser')\n",
    "    try:\n",
    "        vietnamese = tree.find('div', {'class': 'span6'}).text\n",
    "        english = tree.find('div', {'lang': 'en'}).text\n",
    "    except:\n",
    "        i = int(i)\n",
    "    else:    \n",
    "        info_file.write('[')\n",
    "        info_file.write(i)\n",
    "        info_file.write('_v] ')\n",
    "        info_file.write(vietnamese)\n",
    "        info_file.write('\\n')\n",
    "        info_file.write('[')\n",
    "        info_file.write(i)\n",
    "        info_file.write('_e] ')\n",
    "        info_file.write(english)\n",
    "        info_file.write('\\n')\n",
    "        i = int(i)\n",
    "    time.sleep(2.5) \n",
    "info_file.close()"
   ]
  },
  {
   "cell_type": "code",
   "execution_count": 15,
   "metadata": {},
   "outputs": [],
   "source": [
    "info_file.close()"
   ]
  },
  {
   "cell_type": "code",
   "execution_count": 13,
   "metadata": {},
   "outputs": [],
   "source": [
    "dict_file = open('Dict.txt', 'r', encoding = 'utf-8')\n",
    "dicts = dict_file.readlines()\n",
    "dict_file.close()\n",
    "\n",
    "dict_file = open('Dict.txt', 'w', encoding = 'utf-8')\n",
    "i = 36750\n",
    "for dict_word in dicts:\n",
    "    i = i + 1\n",
    "    if i > 37158:\n",
    "        dict_file.write(dict_word)\n",
    "dict_file.close()"
   ]
  }
 ],
 "metadata": {
  "kernelspec": {
   "display_name": "Python 3",
   "language": "python",
   "name": "python3"
  },
  "language_info": {
   "codemirror_mode": {
    "name": "ipython",
    "version": 3
   },
   "file_extension": ".py",
   "mimetype": "text/x-python",
   "name": "python",
   "nbconvert_exporter": "python",
   "pygments_lexer": "ipython3",
   "version": "3.8.3"
  }
 },
 "nbformat": 4,
 "nbformat_minor": 4
}
