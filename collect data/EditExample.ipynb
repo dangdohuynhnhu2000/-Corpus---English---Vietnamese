{
 "cells": [
  {
   "cell_type": "code",
   "execution_count": 1,
   "metadata": {},
   "outputs": [],
   "source": [
    "example_file = open(\"Example.txt\", 'r', encoding = 'utf-8')\n",
    "sentences = example_file.readlines()\n",
    "example_file.close()"
   ]
  },
  {
   "cell_type": "code",
   "execution_count": 3,
   "metadata": {},
   "outputs": [],
   "source": []
  },
  {
   "cell_type": "code",
   "execution_count": 2,
   "metadata": {
    "scrolled": true
   },
   "outputs": [],
   "source": [
    "clear_file = open(\"Dict_V_E.txt\", 'w', encoding = 'utf-8')\n",
    "word_delete = 'vi '\n",
    "\n",
    "i = 0\n",
    "while i < len(sentences):\n",
    "    word_v = sentences[i]\n",
    "    word_e = sentences[i + 1]\n",
    "    if sentences[i].find(word_delete) > 0 and sentences[i].find(word_delete) < 12:\n",
    "        sentences[i] = sentences[i].replace('vi ', '')\n",
    "        sentences[i + 1] = sentences[i + 1].replace('KDE40.1en ', '')\n",
    "        sentences[i + 1] = sentences[i + 1].replace('ted2019en ', '')\n",
    "        sentences[i + 1] = sentences[i + 1].replace('QEDen ', '')\n",
    "        sentences[i + 1] = sentences[i + 1].replace('WikiMatrixen ', '')\n",
    "        sentences[i + 1] = sentences[i + 1].replace('OpenSubtitles2018.v3en ', '')\n",
    "        sentences[i + 1] = sentences[i + 1].replace('EVBNewsen ', '')\n",
    "        sentences[i + 1] = sentences[i + 1].replace('support.googleen ', '')\n",
    "        sentences[i + 1] = sentences[i + 1].replace('jw2019en ', '')\n",
    "        sentences[i + 1] = sentences[i + 1].replace('hrw.orgen ', '')\n",
    "        sentences[i + 1] = sentences[i + 1].replace('opensubtitles2en ', '')\n",
    "        sentences[i + 1] = sentences[i + 1].replace('LDSen ', '')\n",
    "        sentences[i + 1] = sentences[i + 1].replace('worldbank.orgen ', '')\n",
    "        \n",
    "    clear_file.write(sentences[i])\n",
    "    clear_file.write(sentences[i + 1])\n",
    "    i = i + 2\n",
    "clear_file.close()"
   ]
  },
  {
   "cell_type": "code",
   "execution_count": null,
   "metadata": {},
   "outputs": [],
   "source": [
    "word_delete = 'vi '\n",
    "list = []\n",
    "while i < len(sentences):\n",
    "    word_v = sentences[i]\n",
    "    word_e = sentences[i + 1]\n",
    "    if sentences[i].find(word_delete) > 0 and sentences[i].find(word_delete) < 12:\n",
    "        list "
   ]
  },
  {
   "cell_type": "code",
   "execution_count": 4,
   "metadata": {},
   "outputs": [
    {
     "ename": "IndexError",
     "evalue": "list index out of range",
     "output_type": "error",
     "traceback": [
      "\u001b[1;31m---------------------------------------------------------------------------\u001b[0m",
      "\u001b[1;31mIndexError\u001b[0m                                Traceback (most recent call last)",
      "\u001b[1;32m<ipython-input-4-ee0db7622570>\u001b[0m in \u001b[0;36m<module>\u001b[1;34m\u001b[0m\n\u001b[0;32m      4\u001b[0m     \u001b[0mwords_v\u001b[0m \u001b[1;33m=\u001b[0m \u001b[0msentences\u001b[0m\u001b[1;33m[\u001b[0m\u001b[0mi\u001b[0m\u001b[1;33m]\u001b[0m\u001b[1;33m.\u001b[0m\u001b[0msplit\u001b[0m\u001b[1;33m(\u001b[0m\u001b[1;33m)\u001b[0m\u001b[1;33m\u001b[0m\u001b[1;33m\u001b[0m\u001b[0m\n\u001b[0;32m      5\u001b[0m     \u001b[0mwords_e\u001b[0m \u001b[1;33m=\u001b[0m \u001b[0msentences\u001b[0m\u001b[1;33m[\u001b[0m\u001b[0mi\u001b[0m \u001b[1;33m+\u001b[0m \u001b[1;36m1\u001b[0m\u001b[1;33m]\u001b[0m\u001b[1;33m.\u001b[0m\u001b[0msplit\u001b[0m\u001b[1;33m(\u001b[0m\u001b[1;33m)\u001b[0m\u001b[1;33m\u001b[0m\u001b[1;33m\u001b[0m\u001b[0m\n\u001b[1;32m----> 6\u001b[1;33m     \u001b[1;32mif\u001b[0m \u001b[0mwords_v\u001b[0m\u001b[1;33m[\u001b[0m\u001b[1;36m1\u001b[0m\u001b[1;33m]\u001b[0m \u001b[1;33m==\u001b[0m \u001b[0mword_delete\u001b[0m \u001b[1;32mand\u001b[0m \u001b[0mwords_e\u001b[0m\u001b[1;33m[\u001b[0m\u001b[1;36m1\u001b[0m\u001b[1;33m]\u001b[0m \u001b[1;32mnot\u001b[0m \u001b[1;32min\u001b[0m \u001b[0mlist_tag\u001b[0m\u001b[1;33m:\u001b[0m\u001b[1;33m\u001b[0m\u001b[1;33m\u001b[0m\u001b[0m\n\u001b[0m\u001b[0;32m      7\u001b[0m         \u001b[0mlist_tag\u001b[0m\u001b[1;33m.\u001b[0m\u001b[0mappend\u001b[0m\u001b[1;33m(\u001b[0m\u001b[0mwords_e\u001b[0m\u001b[1;33m[\u001b[0m\u001b[1;36m1\u001b[0m\u001b[1;33m]\u001b[0m\u001b[1;33m)\u001b[0m\u001b[1;33m\u001b[0m\u001b[1;33m\u001b[0m\u001b[0m\n\u001b[0;32m      8\u001b[0m     \u001b[0mi\u001b[0m \u001b[1;33m=\u001b[0m \u001b[0mi\u001b[0m \u001b[1;33m+\u001b[0m \u001b[1;36m2\u001b[0m\u001b[1;33m\u001b[0m\u001b[1;33m\u001b[0m\u001b[0m\n",
      "\u001b[1;31mIndexError\u001b[0m: list index out of range"
     ]
    }
   ],
   "source": [
    "i = 0\n",
    "list_tag = []\n",
    "while i < len(sentences):\n",
    "    words_v = sentences[i].split()\n",
    "    words_e = sentences[i + 1].split()\n",
    "    if words_v[1] == word_delete and words_e[1] not in list_tag:\n",
    "        list_tag.append(words_e[1])\n",
    "    i = i + 2"
   ]
  },
  {
   "cell_type": "code",
   "execution_count": 5,
   "metadata": {},
   "outputs": [
    {
     "name": "stdout",
     "output_type": "stream",
     "text": [
      "[]\n"
     ]
    }
   ],
   "source": [
    "print(list_tag)"
   ]
  }
 ],
 "metadata": {
  "kernelspec": {
   "display_name": "Python 3",
   "language": "python",
   "name": "python3"
  },
  "language_info": {
   "codemirror_mode": {
    "name": "ipython",
    "version": 3
   },
   "file_extension": ".py",
   "mimetype": "text/x-python",
   "name": "python",
   "nbconvert_exporter": "python",
   "pygments_lexer": "ipython3",
   "version": "3.8.3"
  }
 },
 "nbformat": 4,
 "nbformat_minor": 4
}
